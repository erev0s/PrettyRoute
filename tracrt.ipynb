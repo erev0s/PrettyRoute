{
 "cells": [
  {
   "cell_type": "code",
   "execution_count": 1,
   "metadata": {},
   "outputs": [],
   "source": [
    "from subprocess import Popen, PIPE\n",
    "from tinydb import TinyDB, Query\n",
    "import pandas as pd"
   ]
  },
  {
   "cell_type": "code",
   "execution_count": 2,
   "metadata": {},
   "outputs": [],
   "source": [
    "host = 'cysec.gr'\n",
    "db = TinyDB('db.json')"
   ]
  },
  {
   "cell_type": "code",
   "execution_count": 5,
   "metadata": {},
   "outputs": [],
   "source": [
    "p = Popen(['traceroute', host], stdout=PIPE)\n",
    "list = []\n",
    "while True:\n",
    "    line = p.stdout.readline().decode(\"utf-8\")\n",
    "    if not line:\n",
    "        break\n",
    "    if 'traceroute to' in line:\n",
    "        result = [x.strip() for x in line.split(',')]\n",
    "        db.insert({'host': host, 'max hops': result[1][:2], 'packets bytes': result[2][:2]})\n",
    "    else:\n",
    "        temp_list = line.split()\n",
    "        list.append(temp_list)\n",
    "\n",
    "for i in range(0,len(list)):\n",
    "    try:\n",
    "        db.insert({'hop#': list[i][0], 'domain': list[i][1], 'ip': list[i][2], 'RTT_1': list[i][3], 'RTT_2': list[i][5], 'RTT_3': list[i][7],})\n",
    "    except:\n",
    "        db.insert({'hop#': list[i][0], 'stars': list[i][0]})"
   ]
  },
  {
   "cell_type": "code",
   "execution_count": null,
   "metadata": {},
   "outputs": [],
   "source": []
  },
  {
   "cell_type": "code",
   "execution_count": null,
   "metadata": {},
   "outputs": [],
   "source": []
  },
  {
   "cell_type": "code",
   "execution_count": null,
   "metadata": {},
   "outputs": [],
   "source": []
  },
  {
   "cell_type": "code",
   "execution_count": null,
   "metadata": {},
   "outputs": [],
   "source": []
  },
  {
   "cell_type": "code",
   "execution_count": null,
   "metadata": {},
   "outputs": [],
   "source": []
  },
  {
   "cell_type": "code",
   "execution_count": null,
   "metadata": {},
   "outputs": [],
   "source": []
  },
  {
   "cell_type": "code",
   "execution_count": null,
   "metadata": {},
   "outputs": [],
   "source": []
  },
  {
   "cell_type": "code",
   "execution_count": null,
   "metadata": {},
   "outputs": [],
   "source": []
  },
  {
   "cell_type": "code",
   "execution_count": null,
   "metadata": {},
   "outputs": [],
   "source": []
  },
  {
   "cell_type": "code",
   "execution_count": null,
   "metadata": {},
   "outputs": [],
   "source": []
  }
 ],
 "metadata": {
  "kernelspec": {
   "display_name": "Python 3",
   "language": "python",
   "name": "python3"
  },
  "language_info": {
   "codemirror_mode": {
    "name": "ipython",
    "version": 3
   },
   "file_extension": ".py",
   "mimetype": "text/x-python",
   "name": "python",
   "nbconvert_exporter": "python",
   "pygments_lexer": "ipython3",
   "version": "3.7.0"
  }
 },
 "nbformat": 4,
 "nbformat_minor": 2
}
