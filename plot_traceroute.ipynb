{
 "cells": [
  {
   "cell_type": "code",
   "execution_count": 1,
   "metadata": {},
   "outputs": [],
   "source": [
    "import matplotlib.pyplot as plt"
   ]
  },
  {
   "cell_type": "code",
   "execution_count": 2,
   "metadata": {},
   "outputs": [],
   "source": [
    "from tinydb import TinyDB, where\n",
    "db = TinyDB('db.json')"
   ]
  },
  {
   "cell_type": "code",
   "execution_count": 3,
   "metadata": {},
   "outputs": [],
   "source": [
    "hops = db.search(where('RTT_1'))"
   ]
  },
  {
   "cell_type": "code",
   "execution_count": 4,
   "metadata": {},
   "outputs": [],
   "source": [
    "# Matplotlib usage"
   ]
  },
  {
   "cell_type": "code",
   "execution_count": 5,
   "metadata": {},
   "outputs": [],
   "source": [
    "hop_num_list = []\n",
    "rtt1_list = []\n",
    "rtt2_list = []\n",
    "rtt3_list = []\n",
    "for i in range(0,len(hops)):\n",
    "    hop_num_list.append(int(hops[i]['hop#']))\n",
    "    rtt1_list.append(float(hops[i]['RTT_1']))\n",
    "    rtt2_list.append(float(hops[i]['RTT_2']))\n",
    "    rtt3_list.append(float(hops[i]['RTT_3']))"
   ]
  },
  {
   "cell_type": "code",
   "execution_count": 7,
   "metadata": {},
   "outputs": [
    {
     "data": {
      "image/png": "[encoded data removed]",
      "text/plain": [
       "<Figure size 432x288 with 1 Axes>"
      ]
     },
     "metadata": {
      "needs_background": "light"
     },
     "output_type": "display_data"
    }
   ],
   "source": [
    "plt.plot(hop_num_list, rtt1_list, 'r--', hop_num_list, rtt2_list, 'b--', hop_num_list, rtt3_list, 'g--')\n",
    "plt.xlabel('hop #')\n",
    "plt.ylabel('RTT')\n",
    "plt.title('RTT of hops')\n",
    "plt.show()"
   ]
  },
  {
   "cell_type": "code",
   "execution_count": null,
   "metadata": {},
   "outputs": [],
   "source": [
    "time_dif_list1 = []\n",
    "time_dif_list2 = []\n",
    "time_dif_list3 = []\n",
    "for i in range(0, len(hops)-1):\n",
    "    time_dif_list1.append(rtt1_list[i+1]-rtt1_list[i])\n",
    "    time_dif_list2.append(rtt2_list[i+1]-rtt2_list[i])\n",
    "    time_dif_list3.append(rtt3_list[i+1]-rtt3_list[i])"
   ]
  },
  {
   "cell_type": "code",
   "execution_count": null,
   "metadata": {},
   "outputs": [],
   "source": [
    "dif_x_axis = hop_num_list\n",
    "del dif_x_axis[0]\n",
    "\n",
    "plt.subplot(3, 1, 1)\n",
    "plt.plot(dif_x_axis, time_dif_list1, 'o-')\n",
    "plt.title('RTT time differences')\n",
    "plt.ylabel('RTT 1')\n",
    "\n",
    "plt.subplot(3, 1, 2)\n",
    "plt.plot(dif_x_axis, time_dif_list2, '.-')\n",
    "plt.ylabel('RTT 2')\n",
    "\n",
    "plt.subplot(3, 1, 3)\n",
    "plt.plot(dif_x_axis, time_dif_list3, '.-')\n",
    "plt.xlabel('hop #')\n",
    "plt.ylabel('RTT 3')\n",
    "\n",
    "plt.show()"
   ]
  },
  {
   "cell_type": "code",
   "execution_count": 16,
   "metadata": {},
   "outputs": [
    {
     "data": {
      "image/png": "[encoded data removed]",
      "text/plain": [
       "<Figure size 432x288 with 1 Axes>"
      ]
     },
     "metadata": {
      "needs_background": "light"
     },
     "output_type": "display_data"
    }
   ],
   "source": [
    "line = plt.plot(hop_num_list, rtt1_list, 'r--')\n",
    "plt.xlabel('hop #')\n",
    "plt.ylabel('RTT')\n",
    "plt.title('RTT of hops')\n",
    "\n",
    "plt.annotate('straight',\n",
    "            xy=(0, 1), xycoords='data',\n",
    "            xytext=(-50, 30), textcoords='offset points',\n",
    "            arrowprops=dict(arrowstyle=\"->\"))\n",
    "\n",
    "plt.show()"
   ]
  },
  {
   "cell_type": "code",
   "execution_count": 13,
   "metadata": {},
   "outputs": [
    {
     "data": {
      "text/plain": [
       "'10.8.7.1'"
      ]
     },
     "execution_count": 13,
     "metadata": {},
     "output_type": "execute_result"
    }
   ],
   "source": [
    "hops[1]['domain']"
   ]
  },
  {
   "cell_type": "code",
   "execution_count": null,
   "metadata": {},
   "outputs": [],
   "source": []
  },
  {
   "cell_type": "code",
   "execution_count": null,
   "metadata": {},
   "outputs": [],
   "source": []
  },
  {
   "cell_type": "code",
   "execution_count": null,
   "metadata": {},
   "outputs": [],
   "source": []
  },
  {
   "cell_type": "code",
   "execution_count": null,
   "metadata": {},
   "outputs": [],
   "source": [
    "from plotly import __version__\n",
    "from plotly.offline import download_plotlyjs, init_notebook_mode, plot, iplot"
   ]
  },
  {
   "cell_type": "code",
   "execution_count": null,
   "metadata": {},
   "outputs": [],
   "source": [
    "db.search(where('host'))"
   ]
  },
  {
   "cell_type": "code",
   "execution_count": null,
   "metadata": {},
   "outputs": [],
   "source": []
  },
  {
   "cell_type": "code",
   "execution_count": null,
   "metadata": {},
   "outputs": [],
   "source": []
  },
  {
   "cell_type": "code",
   "execution_count": null,
   "metadata": {},
   "outputs": [],
   "source": []
  },
  {
   "cell_type": "code",
   "execution_count": null,
   "metadata": {},
   "outputs": [],
   "source": []
  },
  {
   "cell_type": "code",
   "execution_count": null,
   "metadata": {},
   "outputs": [],
   "source": []
  },
  {
   "cell_type": "code",
   "execution_count": null,
   "metadata": {},
   "outputs": [],
   "source": []
  }
 ],
 "metadata": {
  "kernelspec": {
   "display_name": "Python 3",
   "language": "python",
   "name": "python3"
  },
  "language_info": {
   "codemirror_mode": {
    "name": "ipython",
    "version": 3
   },
   "file_extension": ".py",
   "mimetype": "text/x-python",
   "name": "python",
   "nbconvert_exporter": "python",
   "pygments_lexer": "ipython3",
   "version": "3.7.0"
  }
 },
 "nbformat": 4,
 "nbformat_minor": 2
}
